{
 "cells": [
  {
   "cell_type": "code",
   "execution_count": 27,
   "metadata": {},
   "outputs": [],
   "source": [
    "import numpy as np\n",
    "import math as m\n",
    "import networkx as nx\n",
    "import matplotlib.pyplot as plt"
   ]
  },
  {
   "cell_type": "code",
   "execution_count": 28,
   "metadata": {},
   "outputs": [],
   "source": [
    "def get_stimulus(A, beta, reward):\n",
    "    arg = beta*(reward - A)\n",
    "    return m.tanh(arg)"
   ]
  },
  {
   "cell_type": "code",
   "execution_count": 29,
   "metadata": {},
   "outputs": [],
   "source": [
    "def update_p(aspiration_level, beta, reward, prev_action, p):\n",
    "    s = get_stimulus(aspiration_level, beta, reward)\n",
    "    if prev_action == 0: #previous action = cooperation\n",
    "        if s >= 0:\n",
    "            return p + (1-p)*s\n",
    "        else:\n",
    "            return p + p*s\n",
    "    else: #previous action = defect\n",
    "        if s >= 0:\n",
    "            return p - p*s\n",
    "        else:\n",
    "            return p - (1-p)*s"
   ]
  },
  {
   "cell_type": "code",
   "execution_count": 30,
   "metadata": {},
   "outputs": [],
   "source": [
    "def misimplement_prob_update(eps, prob):\n",
    "    return prob*(1-eps) + (1-prob)*eps"
   ]
  },
  {
   "cell_type": "code",
   "execution_count": 31,
   "metadata": {},
   "outputs": [],
   "source": [
    "def get_payoff_matrix(b,c):\n",
    "    return np.array([[b-c, -c],\n",
    "                     [b, 0]])"
   ]
  },
  {
   "cell_type": "code",
   "execution_count": 32,
   "metadata": {},
   "outputs": [],
   "source": [
    "def get_payoffs(p1, p2):\n",
    "    return payoff_mat[p1][p2]"
   ]
  },
  {
   "cell_type": "code",
   "execution_count": 33,
   "metadata": {},
   "outputs": [],
   "source": [
    "def create_ring_graph(N, k):\n",
    "    return nx.watts_strogatz_graph(N, k, 0)\n",
    "\n",
    "\n",
    "#pos = nx.circular_layout(G_small_ring)\n",
    "#plt.figure(3,figsize=(20,20)) \n",
    "#nx.draw_networkx(G_small_ring, pos=pos, with_labels=False)\n"
   ]
  },
  {
   "cell_type": "code",
   "execution_count": 80,
   "metadata": {},
   "outputs": [],
   "source": [
    "def simulate_game(G, payoff_mat, k, rounds, A, beta, eps):\n",
    "    nodes = len(list(G.nodes))\n",
    "    probas = np.array([0.8 for _ in range(nodes)])\n",
    "    counts = np.zeros(rounds)\n",
    "    for r in range(rounds):\n",
    "        payoffs = np.zeros(nodes)\n",
    "        actions = np.random.binomial(1, p = (1 - probas))\n",
    "        #print(actions)\n",
    "        for node in list(G.nodes):\n",
    "            for neighbour in list(G.neighbors(node)):\n",
    "                payoffs[node] += get_payoffs(actions[node], actions[neighbour])\n",
    "            payoffs[node]/k\n",
    "        for node in list(G.nodes):\n",
    "            probas[node] = misimplement_prob_update(eps, update_p(A, beta, payoffs[node], actions[node], probas[node]))\n",
    "        counts[r] = nodes - np.count_nonzero(actions)\n",
    "    return counts/nodes"
   ]
  },
  {
   "cell_type": "code",
   "execution_count": 81,
   "metadata": {},
   "outputs": [],
   "source": [
    "N = 100\n",
    "k = 2\n",
    "G = create_ring_graph(N, k)\n",
    "A = 1\n",
    "beta = 0.2\n",
    "eps = 0.05\n",
    "payoff_mat = get_payoff_matrix(6, 1)"
   ]
  },
  {
   "cell_type": "code",
   "execution_count": 85,
   "metadata": {},
   "outputs": [
    {
     "data": {
      "text/plain": [
       "'avg_coops = np.zeros(50)\\nfor i in range(50):\\n    for trial in coops_lvl:\\n        avg_coops[i] += trial[i]\\n    avg_coops = avg_coops/100'"
      ]
     },
     "execution_count": 85,
     "metadata": {},
     "output_type": "execute_result"
    }
   ],
   "source": [
    "coops_lvl = simulate_game(G, payoff_mat, k, 50, A, beta, eps)\n",
    "    \n",
    "\"\"\"avg_coops = np.zeros(50)\n",
    "for i in range(50):\n",
    "    for trial in coops_lvl:\n",
    "        avg_coops[i] += trial[i]\n",
    "    avg_coops = avg_coops/100\"\"\""
   ]
  },
  {
   "cell_type": "code",
   "execution_count": 86,
   "metadata": {},
   "outputs": [],
   "source": [
    "def plot_coops(coops_lvl, r):\n",
    "    x = np.arange(r)\n",
    "    plt.plot(x, coops_lvl)\n",
    "    plt.show()"
   ]
  },
  {
   "cell_type": "code",
   "execution_count": 87,
   "metadata": {},
   "outputs": [
    {
     "data": {
      "image/png": "[encoded data removed]",
      "text/plain": [
       "<Figure size 432x288 with 1 Axes>"
      ]
     },
     "metadata": {
      "needs_background": "light"
     },
     "output_type": "display_data"
    }
   ],
   "source": [
    "plot_coops(coops_lvl, 50)"
   ]
  },
  {
   "cell_type": "code",
   "execution_count": 88,
   "metadata": {},
   "outputs": [],
   "source": [
    "lbls = np.random.choice(100, replace=False, size=100)\n",
    "mapping = {i : lbls[i] for i in range(100)}\n",
    "H = nx.relabel_nodes(G, mapping)"
   ]
  },
  {
   "cell_type": "code",
   "execution_count": null,
   "metadata": {},
   "outputs": [],
   "source": []
  }
 ],
 "metadata": {
  "kernelspec": {
   "display_name": "Python 3",
   "language": "python",
   "name": "python3"
  },
  "language_info": {
   "codemirror_mode": {
    "name": "ipython",
    "version": 3
   },
   "file_extension": ".py",
   "mimetype": "text/x-python",
   "name": "python",
   "nbconvert_exporter": "python",
   "pygments_lexer": "ipython3",
   "version": "3.7.4"
  }
 },
 "nbformat": 4,
 "nbformat_minor": 2
}
